{
 "cells": [
  {
   "cell_type": "markdown",
   "metadata": {},
   "source": [
    "Load Dependencies"
   ]
  },
  {
   "cell_type": "code",
   "execution_count": 1,
   "metadata": {},
   "outputs": [
    {
     "ename": "ModuleNotFoundError",
     "evalue": "No module named 'google'",
     "output_type": "error",
     "traceback": [
      "\u001b[0;31m---------------------------------------------------------------------------\u001b[0m",
      "\u001b[0;31mModuleNotFoundError\u001b[0m                       Traceback (most recent call last)",
      "\u001b[1;32m/Users/ewan/Desktop/PYTHONWORKSPACE/swearingfilter.ipynb Cell 2'\u001b[0m in \u001b[0;36m<module>\u001b[0;34m\u001b[0m\n\u001b[0;32m----> <a href='vscode-notebook-cell:/Users/ewan/Desktop/PYTHONWORKSPACE/swearingfilter.ipynb#ch0000008?line=0'>1</a>\u001b[0m \u001b[39mfrom\u001b[39;00m \u001b[39mgoogle\u001b[39;00m\u001b[39m.\u001b[39;00m\u001b[39mcloud\u001b[39;00m \u001b[39mimport\u001b[39;00m speech_v1\n",
      "\u001b[0;31mModuleNotFoundError\u001b[0m: No module named 'google'"
     ]
    }
   ],
   "source": [
    "from google.cloud import speech_v1\n",
    "from google.cloud.speech_dav1 import enums\n",
    "from pydub import AudioSegment\n",
    "import numpy as np\n",
    "import io"
   ]
  },
  {
   "cell_type": "markdown",
   "metadata": {},
   "source": [
    "# Speech to Text(STT)"
   ]
  },
  {
   "cell_type": "code",
   "execution_count": null,
   "metadata": {},
   "outputs": [],
   "source": [
    "def sample_recognize(local_file_path): # Defin the function.\n",
    "    client = speech_v1.Speechclient() # Connecting the client\n",
    "    language_code = \"EN\" # Language\n",
    "    sample_rate_hertz = 16800 # Khz of the individual video\n",
    "\n",
    "    encoding = enums.RecognitionConfig.AudioEncoding.ENCODING_UNSPECIFIED\n",
    "    config = { \n",
    "        \"language_code\" : language_code,\n",
    "        \"sample_rate_hertz\" :  sample_rate_hertz\n",
    "        \"encoding\": encoding,\n",
    "        \"enable_word_time_offsets\": True, #Option\n",
    "        \"use_enhanced\" True, # Option\n",
    "    }\n",
    "\n",
    "    with io.open(local_file_path, \"rb\") as f: #using io function, do not need to open and close. rb == read binary\n",
    "        content = f.read()\n",
    "\n",
    "    audio = {\"content\": content}\n",
    "\n",
    "    response = client.recognize(config, audio) #client service.recognize(configuration and file)\n",
    "    timeline, swear_timeline, words = [], [], [] # three objects as list\n",
    "\n",
    "    for result in response.results: # for loop in response.results\n",
    "        alternative = result.alternatives[0]  # result.alternatives[0] The first index\n",
    "        print(u\"Transcript: {}\".format(alternative.transcript))\n",
    "\n",
    "        for word in alternative.words: # For loop in alternative.words \n",
    "            timelines.append([ # appending word in timelines word start time and end time by ml sec)\n",
    "                int(word.start_time.seconds *1000 + word.start_times.nanaos * (10**-6)),\n",
    "                int(word.end_time.seconds * 1000 + word.end_time.nanos * (10**-6))\n",
    "            ])\n",
    "            \n",
    "    return timeline, swear_timeline, words #return timeline, swear_time, words\n",
    "\n",
    "# execute\n",
    "timeline, swear_timelines, words = sample_recognize('sound/short.mp3')\n",
    "\n",
    "print(timeline) # list\n",
    "print(words) #list\n",
    "print(swear_timeline)\n",
    "\n"
   ]
  },
  {
   "cell_type": "markdown",
   "metadata": {},
   "source": [
    "Load Original Audio File"
   ]
  },
  {
   "cell_type": "code",
   "execution_count": null,
   "metadata": {},
   "outputs": [],
   "source": [
    "sound = AudioSegment.from_file('sound/short.mp3', format='mp3')\n",
    "\n",
    "print(len(sound))\n",
    "sound"
   ]
  },
  {
   "cell_type": "markdown",
   "metadata": {},
   "source": [
    "Creating Beep Noise"
   ]
  },
  {
   "cell_type": "code",
   "execution_count": null,
   "metadata": {},
   "outputs": [],
   "source": [
    "def create_beep(duration):\n",
    "    sps = 44100\n",
    "    freq_hz = 1000.0\n",
    "    vol = 0.5\n",
    "\n",
    "    esm = np.arange(duration / 1000 * sps)\n",
    "    wf = np.sin(2 * np.pi * esm * freq_hz / sps)\n",
    "    wf_quiet = wf * vol\n",
    "    wf_int = np.int16(wf_quiet * 32767)\n",
    "\n",
    "    beep = AudioSegment(\n",
    "        wf_int.tobytes(), \n",
    "        frame_rate=sps,\n",
    "        sample_width=wf_int.dtype.itemsize, \n",
    "        channels=1\n",
    "    )\n",
    "\n",
    "    return beep\n",
    "\n",
    "beep = create_beep(duration=1000)\n",
    "beep"
   ]
  },
  {
   "cell_type": "markdown",
   "metadata": {},
   "source": [
    "# Overlay Partially"
   ]
  },
  {
   "cell_type": "code",
   "execution_count": 2,
   "metadata": {},
   "outputs": [
    {
     "ename": "NameError",
     "evalue": "name 'sound' is not defined",
     "output_type": "error",
     "traceback": [
      "\u001b[0;31m---------------------------------------------------------------------------\u001b[0m",
      "\u001b[0;31mNameError\u001b[0m                                 Traceback (most recent call last)",
      "\u001b[1;32m/Users/ewan/Desktop/PYTHONWORKSPACE/swearingfilter.ipynb Cell 10'\u001b[0m in \u001b[0;36m<module>\u001b[0;34m\u001b[0m\n\u001b[1;32m      <a href='vscode-notebook-cell:/Users/ewan/Desktop/PYTHONWORKSPACE/swearingfilter.ipynb#ch0000015?line=0'>1</a>\u001b[0m i \u001b[39m=\u001b[39m \u001b[39m0\u001b[39m\n\u001b[0;32m----> <a href='vscode-notebook-cell:/Users/ewan/Desktop/PYTHONWORKSPACE/swearingfilter.ipynb#ch0000015?line=1'>2</a>\u001b[0m mixed \u001b[39m=\u001b[39m sound\u001b[39m.\u001b[39moverlay(beep, position\u001b[39m=\u001b[39mswear_timeline[i][\u001b[39m0\u001b[39m], gain_during_overlay\u001b[39m=\u001b[39m\u001b[39m-\u001b[39m\u001b[39m20\u001b[39m)\n\u001b[1;32m      <a href='vscode-notebook-cell:/Users/ewan/Desktop/PYTHONWORKSPACE/swearingfilter.ipynb#ch0000015?line=2'>3</a>\u001b[0m mixed\n",
      "\u001b[0;31mNameError\u001b[0m: name 'sound' is not defined"
     ]
    }
   ],
   "source": [
    "i = 0\n",
    "mixed = sound.overlay(beep, position=swear_timeline[i][0], gain_during_overlay=-20)\n",
    "mixed"
   ]
  },
  {
   "cell_type": "markdown",
   "metadata": {},
   "source": [
    "# Result"
   ]
  },
  {
   "cell_type": "code",
   "execution_count": null,
   "metadata": {},
   "outputs": [],
   "source": [
    "mixed_final = sound # mixing audio and beep noise\n",
    "\n",
    "for i in range(len(swear_timeline)): # For loop in range len of swear timeline\n",
    "    beep = create_beep(duration = swear_timeline[i][1] - swear_timeline[i][0])\n",
    "    mixeD_final = mixed_final.overlay(beep, position ....)\n",
    "\n",
    "mixed_final\n"
   ]
  },
  {
   "cell_type": "markdown",
   "metadata": {},
   "source": [
    "# Export"
   ]
  },
  {
   "cell_type": "code",
   "execution_count": null,
   "metadata": {},
   "outputs": [],
   "source": [
    "mixed_final.export('sound/result.mp3',format='mp3')"
   ]
  }
 ],
 "metadata": {
  "interpreter": {
   "hash": "31f2aee4e71d21fbe5cf8b01ff0e069b9275f58929596ceb00d14d90e3e16cd6"
  },
  "kernelspec": {
   "display_name": "Python 3.8.9 64-bit",
   "language": "python",
   "name": "python3"
  },
  "language_info": {
   "codemirror_mode": {
    "name": "ipython",
    "version": 3
   },
   "file_extension": ".py",
   "mimetype": "text/x-python",
   "name": "python",
   "nbconvert_exporter": "python",
   "pygments_lexer": "ipython3",
   "version": "3.8.9"
  },
  "orig_nbformat": 4
 },
 "nbformat": 4,
 "nbformat_minor": 2
}
