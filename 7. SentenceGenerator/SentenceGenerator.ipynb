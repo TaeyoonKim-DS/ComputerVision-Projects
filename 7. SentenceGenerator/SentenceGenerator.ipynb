{
  "cells": [
    {
      "cell_type": "markdown",
      "metadata": {
        "id": "view-in-github",
        "colab_type": "text"
      },
      "source": [
        "<a href=\"https://colab.research.google.com/github/ewankim1023/KagglePlayground/blob/main/SentenceGenerator.ipynb\" target=\"_parent\"><img src=\"https://colab.research.google.com/assets/colab-badge.svg\" alt=\"Open In Colab\"/></a>"
      ]
    },
    {
      "cell_type": "code",
      "execution_count": null,
      "metadata": {
        "id": "5vRQtDxrG0E3"
      },
      "outputs": [],
      "source": [
        "!pip install transformers"
      ]
    },
    {
      "cell_type": "code",
      "execution_count": null,
      "metadata": {
        "id": "VDdaU3_EG-L3"
      },
      "outputs": [],
      "source": [
        "!pip install pydantic"
      ]
    },
    {
      "cell_type": "code",
      "execution_count": null,
      "metadata": {
        "id": "8_zUd-gJHWqL"
      },
      "outputs": [],
      "source": [
        "!pip install opyrator"
      ]
    },
    {
      "cell_type": "code",
      "execution_count": null,
      "metadata": {
        "id": "wYcotEfNH4hx"
      },
      "outputs": [],
      "source": [
        "!pip install streamlit==1.3.1"
      ]
    },
    {
      "cell_type": "code",
      "execution_count": null,
      "metadata": {
        "colab": {
          "base_uri": "https://localhost:8080/"
        },
        "id": "HvI1VvWfG2J-",
        "outputId": "e8cb6495-92d6-44bd-e77b-7fb6aa872b61"
      },
      "outputs": [
        {
          "name": "stderr",
          "output_type": "stream",
          "text": [
            "The tokenizer class you load from this checkpoint is not the same type as the class this function is called from. It may result in unexpected tokenization. \n",
            "The tokenizer class you load from this checkpoint is 'GPT2Tokenizer'. \n",
            "The class this function is called from is 'PreTrainedTokenizerFast'.\n"
          ]
        }
      ],
      "source": [
        "from transformers import PreTrainedTokenizerFast,  GPT2LMHeadModel # model import\n",
        "import torch #torch import\n",
        "from pydantic import BaseModel, Field   #Implementing Opyrator \n",
        "tokenizer = PreTrainedTokenizerFast.from_pretrained( # download the pertrained model)\n",
        "    \"skt/kogpt2-base-v2\",    # skt/kogpt2_base_v2 downloading\n",
        "    bos_token='</s>', eos_token='</s>', unk_token='<unk>', # \n",
        "    pad_token='<pad>', mask_token='<mask>')  \n",
        "\n",
        "\n",
        "model = GPT2LMHeadModel.from_pretrained('skt/kogpt2-base-v2') #model loading\n",
        "\n",
        "class Input(BaseModel):\n",
        "    text: str = Field(\n",
        "        title = 'Please input sentences',\n",
        "        max_length = 128\n",
        "    )\n",
        "    max_length: int = Field(\n",
        "        128,\n",
        "        ge=5, #greater than equal\n",
        "        le=128 #less than equal\n",
        "    )\n",
        "    repetition_penalty: float = Field(\n",
        "        2.0,\n",
        "        ge=0.0,\n",
        "        le=2.0\n",
        "    )\n",
        "\n",
        "class Output(BaseModel): #Inherent BaseModel\n",
        "    generated_text: str\n",
        "\n",
        "def generate_text(input: Input) -> Output:\n",
        "    input_ids = tokenizer.encode(input.text)\n",
        "    gen_ids = model.generate(torch.tensor([input_ids]),\n",
        "        max_length=input.max_length, # Cannot generate more than 128 words\n",
        "        repetition_penalty=input.repetition_penalty,  # When the words are repetitive, new words. 2.0 is default\n",
        "        pad_token_id=tokenizer.pad_token_id,\n",
        "        eos_token_id=tokenizer.eos_token_id,\n",
        "        bos_token_id=tokenizer.bos_token_id,\n",
        "        use_cache=True)\n",
        "    generated = tokenizer.decode(gen_ids[0,:].tolist())  \n",
        "\n",
        "    return Output(generated_text = generated)\n",
        "\n",
        "\n",
        "# Launaching -\n",
        "# opyrator launch-ui [filename]:[mainfunction]"
      ]
    },
    {
      "cell_type": "code",
      "execution_count": null,
      "metadata": {
        "colab": {
          "base_uri": "https://localhost:8080/"
        },
        "id": "RSDgL2QqJRih",
        "outputId": "ec83764c-d0c9-4c37-ba47-60eb80a16c31"
      },
      "outputs": [
        {
          "name": "stdout",
          "output_type": "stream",
          "text": [
            "[Errno 2] No such file or directory: 'drive/MyDrive/Colab Notebooks/Kaggle Playground'\n",
            "/content/drive/MyDrive/Colab Notebooks/Kaggle Playground\n"
          ]
        }
      ],
      "source": [
        "cd drive/MyDrive/Colab Notebooks/Kaggle Playground"
      ]
    },
    {
      "cell_type": "code",
      "execution_count": null,
      "metadata": {
        "colab": {
          "base_uri": "https://localhost:8080/"
        },
        "id": "5DBM2BaTJqpQ",
        "outputId": "5c88ee5d-a267-4ed5-f25a-2c1b5164b571"
      },
      "outputs": [
        {
          "name": "stdout",
          "output_type": "stream",
          "text": [
            "/content/drive/MyDrive/Colab Notebooks/Kaggle Playground\n"
          ]
        }
      ],
      "source": [
        "!pwd"
      ]
    },
    {
      "cell_type": "code",
      "execution_count": null,
      "metadata": {
        "colab": {
          "base_uri": "https://localhost:8080/"
        },
        "id": "nhk-eBr6HCH6",
        "outputId": "d85ae641-79e0-4eaf-bf1a-b15fad20765a"
      },
      "outputs": [
        {
          "name": "stdout",
          "output_type": "stream",
          "text": [
            "2022-03-15 10:59:17.052 INFO    numexpr.utils: NumExpr defaulting to 2 threads.\n",
            "\u001b[0m\n",
            "\u001b[34m\u001b[1m  You can now view your Streamlit app in your browser.\u001b[0m\n",
            "\u001b[0m\n",
            "\u001b[34m  Network URL: \u001b[0m\u001b[1mhttp://172.28.0.2:8051\u001b[0m\n",
            "\u001b[34m  External URL: \u001b[0m\u001b[1mhttp://34.67.217.13:8051\u001b[0m\n",
            "\u001b[0m\n",
            "The tokenizer class you load from this checkpoint is not the same type as the class this function is called from. It may result in unexpected tokenization. \n",
            "The tokenizer class you load from this checkpoint is 'GPT2Tokenizer'. \n",
            "The class this function is called from is 'PreTrainedTokenizerFast'.\n",
            "\u001b[34m  Stopping...\u001b[0m\n",
            "\n",
            "Aborted!\n"
          ]
        }
      ],
      "source": [
        "!opyrator launch-ui SentenceGenerator:generate_text"
      ]
    },
    {
      "cell_type": "code",
      "execution_count": null,
      "metadata": {
        "colab": {
          "background_save": true,
          "base_uri": "https://localhost:8080/"
        },
        "id": "jqUcVRWGHprN",
        "outputId": "4b2fe699-c586-406b-a21b-045652d10f2b"
      },
      "outputs": [
        {
          "name": "stdout",
          "output_type": "stream",
          "text": [
            "bash: cannot set terminal process group (71): Inappropriate ioctl for device\n",
            "bash: no job control in this shell\n",
            "\u001b[01;34m/content/drive/MyDrive/Colab Notebooks/Kaggle Playground\u001b[00m# \n",
            "\u001b[01;34m/content/drive/MyDrive/Colab Notebooks/Kaggle Playground\u001b[00m# \n",
            "\u001b[01;34m/content/drive/MyDrive/Colab Notebooks/Kaggle Playground\u001b[00m# "
          ]
        }
      ],
      "source": [
        "!bash"
      ]
    },
    {
      "cell_type": "code",
      "execution_count": null,
      "metadata": {
        "id": "afTd_2jNfI2q"
      },
      "outputs": [],
      "source": [
        ""
      ]
    }
  ],
  "metadata": {
    "accelerator": "GPU",
    "colab": {
      "collapsed_sections": [],
      "name": "SentenceGenerator",
      "provenance": [],
      "toc_visible": true,
      "mount_file_id": "11orNowUoQbrnhLqC7cXTQdUxIjf3gKyW",
      "authorship_tag": "ABX9TyOgGB8S/iuhC7AiSJQ/PRdG",
      "include_colab_link": true
    },
    "kernelspec": {
      "display_name": "Python 3",
      "name": "python3"
    },
    "language_info": {
      "name": "python"
    }
  },
  "nbformat": 4,
  "nbformat_minor": 0
}
